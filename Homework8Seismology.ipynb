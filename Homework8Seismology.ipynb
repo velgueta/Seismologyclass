{
 "cells": [
  {
   "cell_type": "code",
   "execution_count": 1,
   "id": "638bcad6",
   "metadata": {},
   "outputs": [],
   "source": [
    "import numpy as np\n",
    "import math"
   ]
  },
  {
   "cell_type": "markdown",
   "id": "e3f67713",
   "metadata": {},
   "source": [
    "# Exercise 1"
   ]
  },
  {
   "cell_type": "code",
   "execution_count": 34,
   "id": "cbe7607d",
   "metadata": {},
   "outputs": [],
   "source": [
    "#defining velocities in the crustal\n",
    "vs=3.6\n",
    "vp=6.5\n"
   ]
  },
  {
   "cell_type": "markdown",
   "id": "83587188",
   "metadata": {},
   "source": [
    "#defining the equations\n",
    "#v=d/t, so vp=r/tp, vs=r/ts\n",
    "#for ennouncement, first case: ts-tp=6 [s], second case ts-tp=8[s]\n",
    "\n",
    "ts-tp=(r/vs)-(r/vp)\n",
    "r=(ts-tp)*vp*vs/(vp-vs)"
   ]
  },
  {
   "cell_type": "markdown",
   "id": "6f8f35da",
   "metadata": {},
   "source": [
    "# Solve for the two possible locations for the earthquake. Give your results as the (x, y) km offset from station B"
   ]
  },
  {
   "cell_type": "code",
   "execution_count": 35,
   "id": "7619cda7",
   "metadata": {},
   "outputs": [
    {
     "name": "stdout",
     "output_type": "stream",
     "text": [
      "ra= 64.55 [Km]\n"
     ]
    }
   ],
   "source": [
    "#first case:\n",
    "ts1tp1=8\n",
    "ra=np.around(((ts1tp1*vp*vs)/(vp-vs)),2)\n",
    "print(f'ra= {ra} [Km]')"
   ]
  },
  {
   "cell_type": "code",
   "execution_count": 36,
   "id": "054ffe4c",
   "metadata": {},
   "outputs": [
    {
     "name": "stdout",
     "output_type": "stream",
     "text": [
      "rb=48.41 [Km]\n"
     ]
    }
   ],
   "source": [
    "#secondt case:\n",
    "ts2tp2=6\n",
    "rb=np.around((ts2tp2*vp*vs/(vp-vs)),2)\n",
    "print(f'rb={rb} [Km]')"
   ]
  },
  {
   "cell_type": "code",
   "execution_count": null,
   "id": "f8c670ce",
   "metadata": {},
   "outputs": [],
   "source": [
    "#ra**2=(x-50)**2+y**2\n",
    "#rb**2=x**2+y**2"
   ]
  },
  {
   "cell_type": "code",
   "execution_count": 37,
   "id": "eb104a94",
   "metadata": {},
   "outputs": [],
   "source": [
    "from scipy.optimize import fsolve\n",
    "def func(x):\n",
    "    return [x[0]**2 + (x[1]-50)**2-ra**2,\n",
    "            x[0]**2 + x[1]**2-rb**2\n",
    "           ]\n"
   ]
  },
  {
   "cell_type": "code",
   "execution_count": 38,
   "id": "dc88c0c7",
   "metadata": {},
   "outputs": [
    {
     "name": "stdout",
     "output_type": "stream",
     "text": [
      "The source locations are : x=+/- 47.935, y=6.768\n"
     ]
    }
   ],
   "source": [
    "resultsroots=fsolve(func, [0, 0])\n",
    "result0=np.round(resultsroots[0],3)\n",
    "result1=np.round(resultsroots[1],3)\n",
    "result1\n",
    "print(f'The source locations are : x=+/- {result0}, y={result1}')"
   ]
  },
  {
   "cell_type": "markdown",
   "id": "c938ffde",
   "metadata": {},
   "source": [
    "c) For each earthquake location, what is the predicted S − P time at Latteville?"
   ]
  },
  {
   "cell_type": "code",
   "execution_count": 39,
   "id": "ce579a11",
   "metadata": {},
   "outputs": [
    {
     "data": {
      "text/plain": [
       "[100, 25]"
      ]
     },
     "execution_count": 39,
     "metadata": {},
     "output_type": "execute_result"
    }
   ],
   "source": [
    "#According to the announcement Lattevile has coordinates (100,25)\n",
    "xlate=100\n",
    "ylate=25\n",
    "Late=[xlate,ylate]\n",
    "Late"
   ]
  },
  {
   "cell_type": "code",
   "execution_count": 40,
   "id": "142439b9",
   "metadata": {},
   "outputs": [
    {
     "name": "stdout",
     "output_type": "stream",
     "text": [
      "According to our reference system source1 is onshore and source2 is offshore\n",
      "The linear distance between Lateville and the source1 is 55.165 [Km]\n"
     ]
    }
   ],
   "source": [
    "#the sources locations are:\n",
    "source1=[result0,result1]\n",
    "source2=[-result0,result1]\n",
    "print(f'According to our reference system source1 is onshore and source2 is offshore')\n",
    "#We need to calculate the distance between Lateville and both sources.\n",
    "r1=np.round(np.sqrt((Late[0]-source1[0])**2+(Late[1]-source1[1])**2),3)\n",
    "print(f'The linear distance between Lateville and the source1 is {r1} [Km]')"
   ]
  },
  {
   "cell_type": "code",
   "execution_count": 41,
   "id": "78216762",
   "metadata": {},
   "outputs": [
    {
     "name": "stdout",
     "output_type": "stream",
     "text": [
      "The linear distance between Lateville and the source2 is 149.054 [Km]\n"
     ]
    }
   ],
   "source": [
    "r2=np.round(np.sqrt((Late[0]-source2[0])**2+(Late[1]-source2[1])**2),3)\n",
    "print(f'The linear distance between Lateville and the source2 is {r2} [Km]')"
   ]
  },
  {
   "cell_type": "code",
   "execution_count": 49,
   "id": "47cf1c41",
   "metadata": {},
   "outputs": [
    {
     "name": "stdout",
     "output_type": "stream",
     "text": [
      "the S − P time between lateville and source one (onshore) is 6.837 [s] and the S − P time between lateville and source two (offshore)is 18.473 [s]\n"
     ]
    }
   ],
   "source": [
    "#now we will calculate time differences.\n",
    "tsource1late=np.round(r1*(vp-vs)/(vs*vp),3)\n",
    "\n",
    "tsource2late=np.round(r2*(vp-vs)/(vs*vp),3)\n",
    "print(f'the S − P time between lateville and source one (onshore) is {tsource1late} [s] and the S − P time between lateville and source two (offshore)is {tsource2late} [s]')"
   ]
  },
  {
   "cell_type": "markdown",
   "id": "e8c0d882",
   "metadata": {},
   "source": [
    "d) The strongest ground shaking usually results from S waves. Assuming the offshore location is correct, how much advance warning could be conveyed to Latteville before the S wave arrives at Latteville? Assume that the warning is possible as soon as the S wave has arrived at both stations.\n"
   ]
  },
  {
   "cell_type": "code",
   "execution_count": 54,
   "id": "e17bb190",
   "metadata": {},
   "outputs": [
    {
     "name": "stdout",
     "output_type": "stream",
     "text": [
      "41.404 [s], 13.447 [s], 17.931 [s]\n"
     ]
    }
   ],
   "source": [
    "timearrivals_1= np.round(ra/vs,3)#timearrival for station a\n",
    "timearrivals_2=np.round(rb/vs,3)#timearrival for station b\n",
    "timearrivals_3=np.round(r2/vs,3)#timearrival for station L-offshore\n",
    "print(f'{timearrivals_3} [s], {timearrivals_2} [s], {timearrivals_1} [s]')"
   ]
  },
  {
   "cell_type": "code",
   "execution_count": 56,
   "id": "74313eab",
   "metadata": {},
   "outputs": [
    {
     "name": "stdout",
     "output_type": "stream",
     "text": [
      "The time for warning is the difference between the last station and arrival time to Lateville 23.473000000000003[s]\n"
     ]
    }
   ],
   "source": [
    "print(f'The time for warning is the difference between the last station and arrival time to Lateville {timearrivals_3-timearrivals_1}[s]')"
   ]
  },
  {
   "cell_type": "markdown",
   "id": "0afc2a4a",
   "metadata": {},
   "source": [
    "e) How much pre-S-wave warning could be provided to Latteville if the offshore earthquake location and origin time were known instantly (e.g., from a dense offshore network of seismometers)?"
   ]
  },
  {
   "cell_type": "markdown",
   "id": "edc9536e",
   "metadata": {},
   "source": [
    "Ans: I think that if we have a dense network of seismometers offshore, we should have around 41.40 seconds to give the warning to Lateville."
   ]
  },
  {
   "cell_type": "markdown",
   "id": "7367a83f",
   "metadata": {},
   "source": [
    "# Exercise 2"
   ]
  },
  {
   "cell_type": "markdown",
   "id": "6fe4f7f0",
   "metadata": {},
   "source": [
    "Manipulation of moment tensors (chapter 9, question 2). This relates to chapter 9.2. An interesting seismic event occurred near Tori Shima, Japan, on June 13, 1984, which generated an unusually large tsunami for its size. Kanamori et al. (1993) argued that it was probably caused by magma injection and obtained the following components for the moment tensor: M11 = −1.8, M22 = −1.9, M33 = 3.7, M12 = −0.38, M31 = −0.96, M32 = 0.62 (all numbers in 1017 N m). To obtain stable results, they constrained the isotropic component to be zero. In this exercise, you will need to solve linear algebra. You may do this using scipy linalg toolbox (https://docs.scipy.org/doc/scipy/reference/generated/scipy.linalg.eig.html)."
   ]
  },
  {
   "cell_type": "markdown",
   "id": "12f5486c",
   "metadata": {},
   "source": [
    "a)Compute M0 and MW for this event."
   ]
  },
  {
   "cell_type": "code",
   "execution_count": 60,
   "id": "8f057801",
   "metadata": {},
   "outputs": [
    {
     "data": {
      "text/plain": [
       "array([[-1.8e+17, -3.8e+16, -9.6e+16],\n",
       "       [-3.8e+16, -1.9e+17,  6.2e+16],\n",
       "       [-9.6e+16,  6.2e+16,  3.7e+17]])"
      ]
     },
     "execution_count": 60,
     "metadata": {},
     "output_type": "execute_result"
    }
   ],
   "source": [
    "#according that we know to calculate M0, we need first built moment tensor MT\n",
    "\n",
    "MT=(10**17)* np.array([[-1.8,-0.38,-0.96],[-0.38,-1.9,0.62],[-0.96,0.62,3.7]])\n",
    "MT"
   ]
  },
  {
   "cell_type": "code",
   "execution_count": 67,
   "id": "24719c14",
   "metadata": {},
   "outputs": [
    {
     "name": "stdout",
     "output_type": "stream",
     "text": [
      " The values for M0 and MW are 3.42350697385006e+17 and 5.622980811255467 respectively\n"
     ]
    }
   ],
   "source": [
    "M0=(1/np.sqrt(2))*(np.sqrt(sum(MT.flatten()**2)))\n",
    "MW=(2/3)*(np.log10(M0)-9.1)\n",
    "print(f' The values for M0 and MW are {M0} and {MW} respectively')"
   ]
  },
  {
   "cell_type": "markdown",
   "id": "7c25baf9",
   "metadata": {},
   "source": [
    "b)Compute the eigenvalues σ1, σ2, and σ3 (sorted such that σ1 > σ2 > σ3) and express M in its principal axes coordinates."
   ]
  },
  {
   "cell_type": "code",
   "execution_count": 68,
   "id": "12853482",
   "metadata": {},
   "outputs": [],
   "source": [
    "from numpy.linalg import eig"
   ]
  },
  {
   "cell_type": "code",
   "execution_count": 79,
   "id": "e4ebdea7",
   "metadata": {},
   "outputs": [
    {
     "name": "stdout",
     "output_type": "stream",
     "text": [
      "The eigvalues of MT are [ 3.94087273e+17 -2.23977183e+17 -1.70110090e+17]\n"
     ]
    },
    {
     "data": {
      "text/plain": [
       "array([[ 3.94087273e+17,  0.00000000e+00,  0.00000000e+00],\n",
       "       [ 0.00000000e+00, -1.70110090e+17,  0.00000000e+00],\n",
       "       [ 0.00000000e+00,  0.00000000e+00, -2.23977183e+17]])"
      ]
     },
     "execution_count": 79,
     "metadata": {},
     "output_type": "execute_result"
    }
   ],
   "source": [
    "values,vectors = np.linalg.eig(MT)\n",
    "print(f'The eigvalues of MT are {values}')\n",
    "vvalues=np.array([values[0],values[2],values[1]])\n",
    "vvalues\n",
    "MTpaxes=np.array([[vvalues[0],0,0],\n",
    "                 [0,vvalues[1],0],\n",
    "                 [0,0,vvalues[2]]])\n",
    "MTpaxes"
   ]
  },
  {
   "cell_type": "markdown",
   "id": "96b7e775",
   "metadata": {},
   "source": [
    "c) Compute the parameter (equation 9.17), the measure of the misfit with a double-couple source. Is its value close to that expected for a pure double-couple (DC) source or a pure compensated linear vector dipole (CLVD) source? "
   ]
  },
  {
   "cell_type": "code",
   "execution_count": 80,
   "id": "f9f25bdd",
   "metadata": {},
   "outputs": [
    {
     "data": {
      "text/plain": [
       "-0.432"
      ]
     },
     "execution_count": 80,
     "metadata": {},
     "output_type": "execute_result"
    }
   ],
   "source": [
    "epsilon=np.round(vvalues[1]/abs(vvalues[0]),3)\n",
    "epsilon"
   ]
  },
  {
   "cell_type": "markdown",
   "id": "66e76584",
   "metadata": {},
   "source": [
    "d) Decompose M into MDC and MCLV D using Equation (9.14) and compute the scalar moment of each part."
   ]
  },
  {
   "cell_type": "code",
   "execution_count": 82,
   "id": "10fcc321",
   "metadata": {},
   "outputs": [
    {
     "data": {
      "text/plain": [
       "array([[ 3.09032228e+17,  0.00000000e+00,  0.00000000e+00],\n",
       "       [ 0.00000000e+00,  0.00000000e+00,  0.00000000e+00],\n",
       "       [ 0.00000000e+00,  0.00000000e+00, -3.09032228e+17]])"
      ]
     },
     "execution_count": 82,
     "metadata": {},
     "output_type": "execute_result"
    }
   ],
   "source": [
    "MDC = np.array([[(1/2)*(vvalues[0]-vvalues[2]),0,0],\n",
    "                [0,0,0],\n",
    "                [0,0,-(1/2)*(vvalues[0]-vvalues[2])]\n",
    "    \n",
    "    \n",
    "])\n",
    "MDC\n",
    "                "
   ]
  },
  {
   "cell_type": "code",
   "execution_count": 85,
   "id": "0cf92da3",
   "metadata": {},
   "outputs": [
    {
     "data": {
      "text/plain": [
       "array([[ 8.5055045e+16,  0.0000000e+00,  0.0000000e+00],\n",
       "       [ 0.0000000e+00, -1.7011009e+17,  0.0000000e+00],\n",
       "       [ 0.0000000e+00,  0.0000000e+00,  8.5055045e+16]])"
      ]
     },
     "execution_count": 85,
     "metadata": {},
     "output_type": "execute_result"
    }
   ],
   "source": [
    "MCLVD=np.array([[-vvalues[1]/2,0,0],\n",
    "                [0,vvalues[1],0],\n",
    "                [0,0,-vvalues[1]/2]\n",
    "    \n",
    "    \n",
    "])\n",
    "MCLVD"
   ]
  },
  {
   "cell_type": "code",
   "execution_count": 87,
   "id": "de46263d",
   "metadata": {},
   "outputs": [
    {
     "data": {
      "text/plain": [
       "1.4731965929674784e+17"
      ]
     },
     "execution_count": 87,
     "metadata": {},
     "output_type": "execute_result"
    }
   ],
   "source": [
    "#computing scalars numbers\n",
    "MDC_scalar= (1/np.sqrt(2))*(np.sqrt(sum(MDC.flatten()**2)))\n",
    "MDC_scalar\n",
    "MCLVD_scalar = (1/np.sqrt(2))*(np.sqrt(sum(MCLVD.flatten()**2)))\n",
    "MCLVD_scalar"
   ]
  },
  {
   "cell_type": "markdown",
   "id": "b9ce67a7",
   "metadata": {},
   "source": [
    "e) Devise an alternative decomposition of M into MDC and MCLVD that maximizes the CLVD part and compute the scalar seismic"
   ]
  },
  {
   "cell_type": "code",
   "execution_count": 94,
   "id": "e0f94c27",
   "metadata": {},
   "outputs": [
    {
     "name": "stdout",
     "output_type": "stream",
     "text": [
      "90.26773727307254 is % of fraction of total moment of MCLVD(compensate linear vector dipole)\n"
     ]
    }
   ],
   "source": [
    "FRACCION=MDC_scalar/M0\n",
    "FRACCION\n",
    "print(f'{100*FRACCION} is % of fraction of total moment of MCLVD(compensate linear vector dipole)')"
   ]
  },
  {
   "cell_type": "code",
   "execution_count": null,
   "id": "9330a827",
   "metadata": {},
   "outputs": [],
   "source": []
  }
 ],
 "metadata": {
  "kernelspec": {
   "display_name": "Python 3 (ipykernel)",
   "language": "python",
   "name": "python3"
  },
  "language_info": {
   "codemirror_mode": {
    "name": "ipython",
    "version": 3
   },
   "file_extension": ".py",
   "mimetype": "text/x-python",
   "name": "python",
   "nbconvert_exporter": "python",
   "pygments_lexer": "ipython3",
   "version": "3.9.13"
  }
 },
 "nbformat": 4,
 "nbformat_minor": 5
}
